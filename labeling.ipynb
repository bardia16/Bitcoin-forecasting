{
 "cells": [
  {
   "cell_type": "code",
   "execution_count": 126,
   "metadata": {},
   "outputs": [],
   "source": [
    "import pandas as pd\n",
    "import numpy as np\n",
    "import matplotlib.pyplot as plt\n",
    "from datetime import datetime\n",
    "import os"
   ]
  },
  {
   "cell_type": "code",
   "execution_count": 127,
   "metadata": {},
   "outputs": [],
   "source": [
    "DATA_PATH = 'data/'\n",
    "RESULTS_PATH = 'results/'\n",
    "TICK_SIZE = 200"
   ]
  },
  {
   "cell_type": "code",
   "execution_count": 128,
   "metadata": {},
   "outputs": [
    {
     "data": {
      "text/plain": [
       "['2023-08-16', '2023-08-17', '2023-08-18', '2023-08-19', '2023-08-20']"
      ]
     },
     "execution_count": 128,
     "metadata": {},
     "output_type": "execute_result"
    }
   ],
   "source": [
    "dates = []\n",
    "\n",
    "# Iterate through the files in the directory\n",
    "for filename in os.listdir(DATA_PATH):\n",
    "    if filename.startswith(\"BTCUSDT-trades-\") and filename.endswith(\".csv\"):\n",
    "        date_str = filename.replace(\"BTCUSDT-trades-\", \"\").split(\".\")[0]\n",
    "        dates.append(date_str)\n",
    "dates"
   ]
  },
  {
   "cell_type": "code",
   "execution_count": 129,
   "metadata": {},
   "outputs": [],
   "source": [
    "def create_tick_bar(group):\n",
    "    tick_open = group['price'].iloc[0]\n",
    "    tick_high = group['price'].max()\n",
    "    tick_low = group['price'].min()\n",
    "    tick_close = group['price'].iloc[-1]\n",
    "    tick_volume = len(group)\n",
    "    \n",
    "    return pd.Series({\n",
    "        'time': group['time'].iloc[-1],\n",
    "        'open': tick_open,\n",
    "        'high': tick_high,\n",
    "        'low': tick_low,\n",
    "        'close': tick_close,\n",
    "        'volume': tick_volume\n",
    "    })"
   ]
  },
  {
   "cell_type": "code",
   "execution_count": 130,
   "metadata": {},
   "outputs": [],
   "source": [
    "def load_data(dates):\n",
    "    for date in dates:\n",
    "        data_df = pd.read_csv(DATA_PATH + 'BTCUSDT-trades-' + INPUT_DATE + '.csv')\n",
    "        data_df = (\n",
    "            data_df.set_axis\n",
    "            (['trade Id', 'price', 'qty', 'quoteQty',\t'time', 'isBuyerMaker1', 'isBuyerMaker2'], \n",
    "            axis=1)\n",
    "            )\n",
    "        data_df['time'] = data_df['time'].apply(lambda x: datetime.fromtimestamp(x/1000))\n",
    "        tick_bar_df = data_df.groupby(data_df.index // TICK_SIZE).apply(create_tick_bar)\n",
    "\n",
    "        tick_bar_df.to_parquet(RESULTS_PATH + f'labeled-{date}.parquet', index=False)\n",
    "    print(f'{len(dates)} data(s) loaded.')"
   ]
  },
  {
   "cell_type": "code",
   "execution_count": 131,
   "metadata": {},
   "outputs": [
    {
     "name": "stdout",
     "output_type": "stream",
     "text": [
      "5 data(s) loaded.\n"
     ]
    }
   ],
   "source": [
    "load_data(dates)"
   ]
  }
 ],
 "metadata": {
  "kernelspec": {
   "display_name": "Python 3",
   "language": "python",
   "name": "python3"
  },
  "language_info": {
   "codemirror_mode": {
    "name": "ipython",
    "version": 3
   },
   "file_extension": ".py",
   "mimetype": "text/x-python",
   "name": "python",
   "nbconvert_exporter": "python",
   "pygments_lexer": "ipython3",
   "version": "3.10.7"
  },
  "orig_nbformat": 4
 },
 "nbformat": 4,
 "nbformat_minor": 2
}
